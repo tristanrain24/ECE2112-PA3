{
 "cells": [
  {
   "cell_type": "markdown",
   "id": "653404d3-c0ac-49a0-ba0f-7a52952a0a38",
   "metadata": {},
   "source": [
    "Python Data Analysis - Problem 1"
   ]
  },
  {
   "cell_type": "code",
   "execution_count": 3,
   "id": "e153e7b1-61f9-4680-b917-5796ba53e979",
   "metadata": {},
   "outputs": [],
   "source": [
    "import pandas as pd"
   ]
  },
  {
   "cell_type": "code",
   "execution_count": 4,
   "id": "e3cb5925-721d-43e5-a169-d4fcaf01e713",
   "metadata": {},
   "outputs": [],
   "source": [
    " Cars = pd.read_csv('cars.csv')"
   ]
  },
  {
   "cell_type": "markdown",
   "id": "937f3da9-d574-4449-a23c-ba8058b9ab32",
   "metadata": {},
   "source": [
    "b.) Display the first and last five rows of the resulting cars"
   ]
  },
  {
   "cell_type": "markdown",
   "id": "02a4dbb9-e02b-41fd-8718-c6e16e9b3034",
   "metadata": {
    "jupyter": {
     "source_hidden": true
    }
   },
   "source": [
    "the first method used was the .head and .tail but using this method it not only diplayed the car model but the rest of the rows. \n",
    "but in the problem it was specified that only the car model should be displayed\n",
    "\n",
    "In the next iteration, the following function was used: Montales_Pandas.loc[[0,1,2,3,4,5],['Model']]\n",
    "it displayed the results that was asked but the code was too long and can be further simplified\n",
    "\n",
    "the last iteration of the code is the following: Montales_Pandas['Model'].head(5)\n",
    "This was shorter and much simpler than the previous ones and also displayed the results that were asked for."
   ]
  },
  {
   "cell_type": "code",
   "execution_count": 7,
   "id": "a7a5bf92-e81e-4b82-a295-73eaae63ad37",
   "metadata": {},
   "outputs": [
    {
     "data": {
      "text/plain": [
       "0            Mazda RX4\n",
       "1        Mazda RX4 Wag\n",
       "2           Datsun 710\n",
       "3       Hornet 4 Drive\n",
       "4    Hornet Sportabout\n",
       "Name: Model, dtype: object"
      ]
     },
     "execution_count": 7,
     "metadata": {},
     "output_type": "execute_result"
    }
   ],
   "source": [
    "Cars['Model'].head(5)"
   ]
  },
  {
   "cell_type": "code",
   "execution_count": 8,
   "id": "7dd96281-0446-4ac9-aee9-6e9bdfc09ee4",
   "metadata": {},
   "outputs": [
    {
     "data": {
      "text/plain": [
       "27      Lotus Europa\n",
       "28    Ford Pantera L\n",
       "29      Ferrari Dino\n",
       "30     Maserati Bora\n",
       "31        Volvo 142E\n",
       "Name: Model, dtype: object"
      ]
     },
     "execution_count": 8,
     "metadata": {},
     "output_type": "execute_result"
    }
   ],
   "source": [
    "Cars['Model'].tail(5)"
   ]
  },
  {
   "cell_type": "code",
   "execution_count": 9,
   "id": "b07f11ed-9bed-4104-9ce9-27cc08149548",
   "metadata": {},
   "outputs": [
    {
     "data": {
      "text/html": [
       "<div>\n",
       "<style scoped>\n",
       "    .dataframe tbody tr th:only-of-type {\n",
       "        vertical-align: middle;\n",
       "    }\n",
       "\n",
       "    .dataframe tbody tr th {\n",
       "        vertical-align: top;\n",
       "    }\n",
       "\n",
       "    .dataframe thead th {\n",
       "        text-align: right;\n",
       "    }\n",
       "</style>\n",
       "<table border=\"1\" class=\"dataframe\">\n",
       "  <thead>\n",
       "    <tr style=\"text-align: right;\">\n",
       "      <th></th>\n",
       "      <th>Model</th>\n",
       "    </tr>\n",
       "  </thead>\n",
       "  <tbody>\n",
       "    <tr>\n",
       "      <th>0</th>\n",
       "      <td>Mazda RX4</td>\n",
       "    </tr>\n",
       "    <tr>\n",
       "      <th>1</th>\n",
       "      <td>Mazda RX4 Wag</td>\n",
       "    </tr>\n",
       "    <tr>\n",
       "      <th>2</th>\n",
       "      <td>Datsun 710</td>\n",
       "    </tr>\n",
       "    <tr>\n",
       "      <th>3</th>\n",
       "      <td>Hornet 4 Drive</td>\n",
       "    </tr>\n",
       "    <tr>\n",
       "      <th>4</th>\n",
       "      <td>Hornet Sportabout</td>\n",
       "    </tr>\n",
       "    <tr>\n",
       "      <th>5</th>\n",
       "      <td>Valiant</td>\n",
       "    </tr>\n",
       "  </tbody>\n",
       "</table>\n",
       "</div>"
      ],
      "text/plain": [
       "               Model\n",
       "0          Mazda RX4\n",
       "1      Mazda RX4 Wag\n",
       "2         Datsun 710\n",
       "3     Hornet 4 Drive\n",
       "4  Hornet Sportabout\n",
       "5            Valiant"
      ]
     },
     "execution_count": 9,
     "metadata": {},
     "output_type": "execute_result"
    }
   ],
   "source": [
    "Cars.loc[[0,1,2,3,4,5],['Model']]"
   ]
  },
  {
   "cell_type": "code",
   "execution_count": 34,
   "id": "74d88734-6a4b-4e01-b42c-bf03fe2dde28",
   "metadata": {},
   "outputs": [],
   "source": [
    "Cars.to_csv('Montales_Pandas-P1.py', index=False)"
   ]
  },
  {
   "cell_type": "markdown",
   "id": "893fbf09-d52d-436c-90fa-bdcf6eb8630f",
   "metadata": {},
   "source": [
    "Problem 2:\n",
    "a.>Display the first five rows with odd-numbered columns (columns 1, 3, 5, 7...) of cars."
   ]
  },
  {
   "cell_type": "code",
   "execution_count": 12,
   "id": "62046406-1627-4a2d-a758-f2d9026b78fd",
   "metadata": {},
   "outputs": [
    {
     "data": {
      "text/html": [
       "<div>\n",
       "<style scoped>\n",
       "    .dataframe tbody tr th:only-of-type {\n",
       "        vertical-align: middle;\n",
       "    }\n",
       "\n",
       "    .dataframe tbody tr th {\n",
       "        vertical-align: top;\n",
       "    }\n",
       "\n",
       "    .dataframe thead th {\n",
       "        text-align: right;\n",
       "    }\n",
       "</style>\n",
       "<table border=\"1\" class=\"dataframe\">\n",
       "  <thead>\n",
       "    <tr style=\"text-align: right;\">\n",
       "      <th></th>\n",
       "      <th>Model</th>\n",
       "      <th>cyl</th>\n",
       "      <th>hp</th>\n",
       "      <th>wt</th>\n",
       "      <th>vs</th>\n",
       "      <th>gear</th>\n",
       "    </tr>\n",
       "  </thead>\n",
       "  <tbody>\n",
       "    <tr>\n",
       "      <th>0</th>\n",
       "      <td>Mazda RX4</td>\n",
       "      <td>6</td>\n",
       "      <td>110</td>\n",
       "      <td>2.620</td>\n",
       "      <td>0</td>\n",
       "      <td>4</td>\n",
       "    </tr>\n",
       "    <tr>\n",
       "      <th>1</th>\n",
       "      <td>Mazda RX4 Wag</td>\n",
       "      <td>6</td>\n",
       "      <td>110</td>\n",
       "      <td>2.875</td>\n",
       "      <td>0</td>\n",
       "      <td>4</td>\n",
       "    </tr>\n",
       "    <tr>\n",
       "      <th>2</th>\n",
       "      <td>Datsun 710</td>\n",
       "      <td>4</td>\n",
       "      <td>93</td>\n",
       "      <td>2.320</td>\n",
       "      <td>1</td>\n",
       "      <td>4</td>\n",
       "    </tr>\n",
       "    <tr>\n",
       "      <th>3</th>\n",
       "      <td>Hornet 4 Drive</td>\n",
       "      <td>6</td>\n",
       "      <td>110</td>\n",
       "      <td>3.215</td>\n",
       "      <td>1</td>\n",
       "      <td>3</td>\n",
       "    </tr>\n",
       "    <tr>\n",
       "      <th>4</th>\n",
       "      <td>Hornet Sportabout</td>\n",
       "      <td>8</td>\n",
       "      <td>175</td>\n",
       "      <td>3.440</td>\n",
       "      <td>0</td>\n",
       "      <td>3</td>\n",
       "    </tr>\n",
       "  </tbody>\n",
       "</table>\n",
       "</div>"
      ],
      "text/plain": [
       "               Model  cyl   hp     wt  vs  gear\n",
       "0          Mazda RX4    6  110  2.620   0     4\n",
       "1      Mazda RX4 Wag    6  110  2.875   0     4\n",
       "2         Datsun 710    4   93  2.320   1     4\n",
       "3     Hornet 4 Drive    6  110  3.215   1     3\n",
       "4  Hornet Sportabout    8  175  3.440   0     3"
      ]
     },
     "execution_count": 12,
     "metadata": {},
     "output_type": "execute_result"
    }
   ],
   "source": [
    "Cars.iloc[:5,::2]"
   ]
  },
  {
   "cell_type": "markdown",
   "id": "199c4237-c184-40d9-9b46-60a74ab48fdf",
   "metadata": {},
   "source": [
    "Display the row that contains the ‘Model’ of ‘Mazda RX4’"
   ]
  },
  {
   "cell_type": "code",
   "execution_count": 14,
   "id": "470e64f8-f61a-4f7a-afcd-4ea21642977a",
   "metadata": {},
   "outputs": [
    {
     "data": {
      "text/html": [
       "<div>\n",
       "<style scoped>\n",
       "    .dataframe tbody tr th:only-of-type {\n",
       "        vertical-align: middle;\n",
       "    }\n",
       "\n",
       "    .dataframe tbody tr th {\n",
       "        vertical-align: top;\n",
       "    }\n",
       "\n",
       "    .dataframe thead th {\n",
       "        text-align: right;\n",
       "    }\n",
       "</style>\n",
       "<table border=\"1\" class=\"dataframe\">\n",
       "  <thead>\n",
       "    <tr style=\"text-align: right;\">\n",
       "      <th></th>\n",
       "      <th>Model</th>\n",
       "    </tr>\n",
       "  </thead>\n",
       "  <tbody>\n",
       "    <tr>\n",
       "      <th>0</th>\n",
       "      <td>Mazda RX4</td>\n",
       "    </tr>\n",
       "  </tbody>\n",
       "</table>\n",
       "</div>"
      ],
      "text/plain": [
       "       Model\n",
       "0  Mazda RX4"
      ]
     },
     "execution_count": 14,
     "metadata": {},
     "output_type": "execute_result"
    }
   ],
   "source": [
    "Cars.loc[Cars['Model']=='Mazda RX4', ['Model']]"
   ]
  },
  {
   "cell_type": "markdown",
   "id": "9b4c21bc-090f-47a8-b960-749c7d94ba44",
   "metadata": {},
   "source": [
    "How many cylinders (‘cyl’) does the car model ‘Camaro Z28’ have?"
   ]
  },
  {
   "cell_type": "code",
   "execution_count": 16,
   "id": "94cb9b0a-4f33-4f51-be16-588327c887db",
   "metadata": {},
   "outputs": [
    {
     "data": {
      "text/html": [
       "<div>\n",
       "<style scoped>\n",
       "    .dataframe tbody tr th:only-of-type {\n",
       "        vertical-align: middle;\n",
       "    }\n",
       "\n",
       "    .dataframe tbody tr th {\n",
       "        vertical-align: top;\n",
       "    }\n",
       "\n",
       "    .dataframe thead th {\n",
       "        text-align: right;\n",
       "    }\n",
       "</style>\n",
       "<table border=\"1\" class=\"dataframe\">\n",
       "  <thead>\n",
       "    <tr style=\"text-align: right;\">\n",
       "      <th></th>\n",
       "      <th>Model</th>\n",
       "      <th>cyl</th>\n",
       "    </tr>\n",
       "  </thead>\n",
       "  <tbody>\n",
       "    <tr>\n",
       "      <th>23</th>\n",
       "      <td>Camaro Z28</td>\n",
       "      <td>8</td>\n",
       "    </tr>\n",
       "  </tbody>\n",
       "</table>\n",
       "</div>"
      ],
      "text/plain": [
       "         Model  cyl\n",
       "23  Camaro Z28    8"
      ]
     },
     "execution_count": 16,
     "metadata": {},
     "output_type": "execute_result"
    }
   ],
   "source": [
    "Cars.loc[Cars['Model']=='Camaro Z28', ['Model','cyl']]"
   ]
  },
  {
   "cell_type": "markdown",
   "id": "9f376c4d-2979-4420-adcc-c33023dc928b",
   "metadata": {},
   "source": [
    "Determine how many cylinders (‘cyl’) and what gear type (‘gear’) do the car models ‘Mazda RX4\n",
    "Wag’, ‘Ford Pantera L’ and ‘Honda Civic’ have.\n"
   ]
  },
  {
   "cell_type": "code",
   "execution_count": 18,
   "id": "19b24308-177b-4998-acc8-28dca3e28900",
   "metadata": {},
   "outputs": [
    {
     "data": {
      "text/html": [
       "<div>\n",
       "<style scoped>\n",
       "    .dataframe tbody tr th:only-of-type {\n",
       "        vertical-align: middle;\n",
       "    }\n",
       "\n",
       "    .dataframe tbody tr th {\n",
       "        vertical-align: top;\n",
       "    }\n",
       "\n",
       "    .dataframe thead th {\n",
       "        text-align: right;\n",
       "    }\n",
       "</style>\n",
       "<table border=\"1\" class=\"dataframe\">\n",
       "  <thead>\n",
       "    <tr style=\"text-align: right;\">\n",
       "      <th></th>\n",
       "      <th>Model</th>\n",
       "      <th>cyl</th>\n",
       "      <th>gear</th>\n",
       "    </tr>\n",
       "  </thead>\n",
       "  <tbody>\n",
       "    <tr>\n",
       "      <th>1</th>\n",
       "      <td>Mazda RX4 Wag</td>\n",
       "      <td>6</td>\n",
       "      <td>4</td>\n",
       "    </tr>\n",
       "    <tr>\n",
       "      <th>18</th>\n",
       "      <td>Honda Civic</td>\n",
       "      <td>4</td>\n",
       "      <td>4</td>\n",
       "    </tr>\n",
       "    <tr>\n",
       "      <th>28</th>\n",
       "      <td>Ford Pantera L</td>\n",
       "      <td>8</td>\n",
       "      <td>5</td>\n",
       "    </tr>\n",
       "  </tbody>\n",
       "</table>\n",
       "</div>"
      ],
      "text/plain": [
       "             Model  cyl  gear\n",
       "1    Mazda RX4 Wag    6     4\n",
       "18     Honda Civic    4     4\n",
       "28  Ford Pantera L    8     5"
      ]
     },
     "execution_count": 18,
     "metadata": {},
     "output_type": "execute_result"
    }
   ],
   "source": [
    "Cars.loc[Cars['Model'].isin(['Mazda RX4 Wag','Ford Pantera L','Honda Civic']), ['Model','cyl', 'gear']]"
   ]
  },
  {
   "cell_type": "code",
   "execution_count": 19,
   "id": "26a51dda-fa65-4694-a7d2-466867858d15",
   "metadata": {},
   "outputs": [],
   "source": [
    "Cars.to_csv('Montales_Pandas-P2.py', index=False)"
   ]
  },
  {
   "cell_type": "code",
   "execution_count": null,
   "id": "afaa73d5-2c49-40f4-bf19-15df598431d0",
   "metadata": {},
   "outputs": [],
   "source": []
  }
 ],
 "metadata": {
  "kernelspec": {
   "display_name": "Python 3 (ipykernel)",
   "language": "python",
   "name": "python3"
  },
  "language_info": {
   "codemirror_mode": {
    "name": "ipython",
    "version": 3
   },
   "file_extension": ".py",
   "mimetype": "text/x-python",
   "name": "python",
   "nbconvert_exporter": "python",
   "pygments_lexer": "ipython3",
   "version": "3.12.4"
  }
 },
 "nbformat": 4,
 "nbformat_minor": 5
}
